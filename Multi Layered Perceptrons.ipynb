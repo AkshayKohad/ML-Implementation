{
  "cells": [
    {
      "cell_type": "markdown",
      "metadata": {
        "id": "lvpf93Fv9Hlk"
      },
      "source": [
        "# SMAI Assignment - 2\n",
        "\n",
        "## Question 4: Multi-layer Perceptrons\n",
        "\n",
        "### Digit Classification\n",
        "\n",
        "In this question, you will perform digit classification using MLP. You can use the MLPClassifier from sklearn. Train and two test sets have been provided [here](https://drive.google.com/drive/folders/1OUVrOMp2jSSBDJSqvEyXDFTrhiyZnqit?usp=sharing). Report the accuracy and any other interesting observations."
      ]
    },
    {
      "cell_type": "code",
      "execution_count": 19,
      "metadata": {
        "id": "G-MpagLl-YJp"
      },
      "outputs": [],
      "source": [
        "import numpy as np\n",
        "import h5py"
      ]
    },
    {
      "cell_type": "code",
      "execution_count": 20,
      "metadata": {
        "id": "cHAbz92352gz"
      },
      "outputs": [],
      "source": [
        "filename = \"training_3digits.hdf5\"\n",
        "train = h5py.File(filename,'r')\n",
        "train_images = np.array(train['images'])\n",
        "train_digits = np.array(train['digits'])\n",
        "train.close()"
      ]
    },
    {
      "cell_type": "code",
      "execution_count": 21,
      "metadata": {
        "id": "5MLBdrs65woF"
      },
      "outputs": [],
      "source": [
        "filename = \"testing_3digits_part1.hdf5\"\n",
        "test1 = h5py.File(filename,'r')\n",
        "test_images_1 = np.array(test1['images'])\n",
        "test_digits_1 = np.array(test1['digits'])\n",
        "test1.close()"
      ]
    },
    {
      "cell_type": "code",
      "execution_count": 22,
      "metadata": {
        "id": "w8cYRTiD-R1e"
      },
      "outputs": [],
      "source": [
        "filename = \"testing_3digits_part2.hdf5\"\n",
        "test2 = h5py.File(filename,'r')\n",
        "test_images_2 = np.array(test2['images'])\n",
        "test_digits_2 = np.array(test2['digits'])\n",
        "test2.close()"
      ]
    },
    {
      "cell_type": "code",
      "source": [
        "train_images.shape"
      ],
      "metadata": {
        "colab": {
          "base_uri": "https://localhost:8080/"
        },
        "id": "VVo4zlxXnamw",
        "outputId": "54a7d335-513b-4242-ed11-a6fdb205b271"
      },
      "execution_count": 23,
      "outputs": [
        {
          "output_type": "execute_result",
          "data": {
            "text/plain": [
              "(2726, 28, 28, 3)"
            ]
          },
          "metadata": {},
          "execution_count": 23
        }
      ]
    },
    {
      "cell_type": "code",
      "source": [
        "test_images_1.shape"
      ],
      "metadata": {
        "colab": {
          "base_uri": "https://localhost:8080/"
        },
        "id": "Igd-tbFJoj57",
        "outputId": "f34e8084-bb21-45f3-eb4d-1bd919d6e71d"
      },
      "execution_count": 24,
      "outputs": [
        {
          "output_type": "execute_result",
          "data": {
            "text/plain": [
              "(3147, 28, 28, 3)"
            ]
          },
          "metadata": {},
          "execution_count": 24
        }
      ]
    },
    {
      "cell_type": "code",
      "source": [
        "test_images_2.shape"
      ],
      "metadata": {
        "colab": {
          "base_uri": "https://localhost:8080/"
        },
        "id": "cKrc1-mRpuGa",
        "outputId": "0823ebab-7af2-4575-fcee-da522b33abcf"
      },
      "execution_count": 25,
      "outputs": [
        {
          "output_type": "execute_result",
          "data": {
            "text/plain": [
              "(3147, 28, 28, 3)"
            ]
          },
          "metadata": {},
          "execution_count": 25
        }
      ]
    },
    {
      "cell_type": "code",
      "source": [
        "train_digits.shape"
      ],
      "metadata": {
        "colab": {
          "base_uri": "https://localhost:8080/"
        },
        "id": "72ScfTQVosKg",
        "outputId": "540ad1d0-385e-49b1-974d-02d3fc6c19f2"
      },
      "execution_count": 26,
      "outputs": [
        {
          "output_type": "execute_result",
          "data": {
            "text/plain": [
              "(2726,)"
            ]
          },
          "metadata": {},
          "execution_count": 26
        }
      ]
    },
    {
      "cell_type": "code",
      "source": [
        "test_digits_1.shape"
      ],
      "metadata": {
        "colab": {
          "base_uri": "https://localhost:8080/"
        },
        "id": "xH6Ct2UEozoI",
        "outputId": "d525c932-9e93-499b-8a58-b19c7abb352e"
      },
      "execution_count": 27,
      "outputs": [
        {
          "output_type": "execute_result",
          "data": {
            "text/plain": [
              "(3147,)"
            ]
          },
          "metadata": {},
          "execution_count": 27
        }
      ]
    },
    {
      "cell_type": "code",
      "source": [
        "test_digits_2.shape"
      ],
      "metadata": {
        "colab": {
          "base_uri": "https://localhost:8080/"
        },
        "id": "fN5aHT8yqAq-",
        "outputId": "77960030-7ce5-49d5-f08c-4e786b72933b"
      },
      "execution_count": 28,
      "outputs": [
        {
          "output_type": "execute_result",
          "data": {
            "text/plain": [
              "(3147,)"
            ]
          },
          "metadata": {},
          "execution_count": 28
        }
      ]
    },
    {
      "cell_type": "code",
      "source": [
        "import matplotlib.pyplot as plt\n",
        "\n",
        "index = 1000\n",
        "image_to_visualize = train_images[index]\n",
        "\n",
        "# Display the image\n",
        "plt.imshow(image_to_visualize)\n",
        "plt.title(f\"Digit: {train_digits[index]}\")  # Assuming you have digit labels\n",
        "plt.show()"
      ],
      "metadata": {
        "colab": {
          "base_uri": "https://localhost:8080/",
          "height": 452
        },
        "id": "hNoIywurrN5k",
        "outputId": "036a9fbc-611d-46ee-aa88-61c47bfba452"
      },
      "execution_count": 29,
      "outputs": [
        {
          "output_type": "display_data",
          "data": {
            "text/plain": [
              "<Figure size 640x480 with 1 Axes>"
            ],
            "image/png": "[encoded data removed]"
          },
          "metadata": {}
        }
      ]
    },
    {
      "cell_type": "code",
      "source": [
        "image_to_visualize = test_images_1[index]\n",
        "\n",
        "# Display the image\n",
        "plt.imshow(image_to_visualize)\n",
        "plt.title(f\"Digit: {test_digits_1[index]}\")  # Assuming you have digit labels\n",
        "plt.show()"
      ],
      "metadata": {
        "id": "O52QAFJzr35i",
        "colab": {
          "base_uri": "https://localhost:8080/",
          "height": 452
        },
        "outputId": "16756ab9-ff00-4393-af41-3f804f067bb4"
      },
      "execution_count": 30,
      "outputs": [
        {
          "output_type": "display_data",
          "data": {
            "text/plain": [
              "<Figure size 640x480 with 1 Axes>"
            ],
            "image/png": "[encoded data removed]"
          },
          "metadata": {}
        }
      ]
    },
    {
      "cell_type": "code",
      "source": [
        "image_to_visualize = test_images_2[index]\n",
        "\n",
        "# Display the image\n",
        "plt.imshow(image_to_visualize)\n",
        "plt.title(f\"Digit: {test_digits_2[index]}\")  # Assuming you have digit labels\n",
        "plt.show()"
      ],
      "metadata": {
        "id": "g-gtxJOJsL9h",
        "colab": {
          "base_uri": "https://localhost:8080/",
          "height": 452
        },
        "outputId": "f9b04b2a-47a3-4009-ab42-5126b1bd45ae"
      },
      "execution_count": 31,
      "outputs": [
        {
          "output_type": "display_data",
          "data": {
            "text/plain": [
              "<Figure size 640x480 with 1 Axes>"
            ],
            "image/png": "[encoded data removed]"
          },
          "metadata": {}
        }
      ]
    },
    {
      "cell_type": "code",
      "source": [
        "import numpy as np\n",
        "from sklearn.neural_network import MLPClassifier\n",
        "from sklearn.metrics import accuracy_score\n",
        "\n",
        "# Reshape the images to a 2D array for MLP input\n",
        "train_images_reshaped = train_images.reshape((2726, -1))\n",
        "test_images_1_reshaped = test_images_1.reshape((3147, -1))\n",
        "test_images_2_reshaped = test_images_2.reshape((3147, -1))\n",
        "\n",
        "# Create MLP Classifier\n",
        "mlp = MLPClassifier(hidden_layer_sizes=(100,), max_iter=500, random_state=42)\n",
        "\n",
        "# Train the model\n",
        "mlp.fit(train_images_reshaped, train_digits)\n",
        "\n",
        "# Make predictions on test sets\n",
        "predictions_1 = mlp.predict(test_images_1_reshaped)\n",
        "predictions_2 = mlp.predict(test_images_2_reshaped)\n",
        "\n",
        "# Calculate accuracy\n",
        "accuracy_1 = accuracy_score(test_digits_1, predictions_1)\n",
        "accuracy_2 = accuracy_score(test_digits_2, predictions_2)\n",
        "\n",
        "print(f\"Accuracy on test set 1: {accuracy_1:.2%}\")\n",
        "print(f\"Accuracy on test set 2: {accuracy_2:.2%}\")\n"
      ],
      "metadata": {
        "id": "EJPttb_OqDT2",
        "colab": {
          "base_uri": "https://localhost:8080/"
        },
        "outputId": "4c675a9f-4ce9-47d0-eacc-0dcf213e59b9"
      },
      "execution_count": 32,
      "outputs": [
        {
          "output_type": "stream",
          "name": "stdout",
          "text": [
            "Accuracy on test set 1: 100.00%\n",
            "Accuracy on test set 2: 0.00%\n"
          ]
        }
      ]
    },
    {
      "cell_type": "code",
      "source": [
        "\n",
        "from sklearn.metrics import confusion_matrix\n",
        "import seaborn as sns\n",
        "\n",
        "# Create confusion matrices\n",
        "cm_1 = confusion_matrix(test_digits_1, predictions_1)\n",
        "cm_2 = confusion_matrix(test_digits_2, predictions_2)\n",
        "\n",
        "# Plot confusion matrices\n",
        "plt.figure(figsize=(12, 6))\n",
        "plt.subplot(1, 2, 1)\n",
        "sns.heatmap(cm_1, annot=True, fmt=\"d\", cmap=\"Blues\", cbar=False)\n",
        "plt.title('Confusion Matrix - Test Set 1')\n",
        "\n",
        "plt.subplot(1, 2, 2)\n",
        "sns.heatmap(cm_2, annot=True, fmt=\"d\", cmap=\"Blues\", cbar=False)\n",
        "plt.title('Confusion Matrix - Test Set 2')\n",
        "\n",
        "plt.show()\n"
      ],
      "metadata": {
        "colab": {
          "base_uri": "https://localhost:8080/",
          "height": 482
        },
        "id": "-5r5Ht-HL076",
        "outputId": "e1685991-837c-44d1-ea0c-54966f5119bf"
      },
      "execution_count": 33,
      "outputs": [
        {
          "output_type": "display_data",
          "data": {
            "text/plain": [
              "<Figure size 1200x600 with 2 Axes>"
            ],
            "image/png": "[encoded data removed]"
          },
          "metadata": {}
        }
      ]
    },
    {
      "cell_type": "code",
      "source": [],
      "metadata": {
        "id": "xJbTfsWqNahx"
      },
      "execution_count": 33,
      "outputs": []
    }
  ],
  "metadata": {
    "colab": {
      "provenance": []
    },
    "kernelspec": {
      "display_name": "Python 3",
      "name": "python3"
    },
    "language_info": {
      "name": "python"
    }
  },
  "nbformat": 4,
  "nbformat_minor": 0
}